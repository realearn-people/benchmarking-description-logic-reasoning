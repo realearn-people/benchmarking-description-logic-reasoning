{
  "nbformat": 4,
  "nbformat_minor": 0,
  "metadata": {
    "colab": {
      "provenance": [],
      "gpuType": "T4"
    },
    "kernelspec": {
      "name": "python3",
      "display_name": "Python 3"
    },
    "language_info": {
      "name": "python"
    },
    "accelerator": "GPU"
  },
  "cells": [
    {
      "cell_type": "code",
      "source": [
        "!pip install owlready2"
      ],
      "metadata": {
        "colab": {
          "base_uri": "https://localhost:8080/"
        },
        "id": "gC3To8L1xjyK",
        "outputId": "da31ce3e-d6ab-44a3-e6fe-7312290f469b"
      },
      "execution_count": 1,
      "outputs": [
        {
          "output_type": "stream",
          "name": "stdout",
          "text": [
            "Collecting owlready2\n",
            "  Downloading owlready2-0.48.tar.gz (27.3 MB)\n",
            "\u001b[2K     \u001b[90m━━━━━━━━━━━━━━━━━━━━━━━━━━━━━━━━━━━━━━━━\u001b[0m \u001b[32m27.3/27.3 MB\u001b[0m \u001b[31m56.1 MB/s\u001b[0m eta \u001b[36m0:00:00\u001b[0m\n",
            "\u001b[?25h  Installing build dependencies ... \u001b[?25l\u001b[?25hdone\n",
            "  Getting requirements to build wheel ... \u001b[?25l\u001b[?25hdone\n",
            "  Preparing metadata (pyproject.toml) ... \u001b[?25l\u001b[?25hdone\n",
            "Building wheels for collected packages: owlready2\n",
            "  Building wheel for owlready2 (pyproject.toml) ... \u001b[?25l\u001b[?25hdone\n",
            "  Created wheel for owlready2: filename=owlready2-0.48-cp311-cp311-linux_x86_64.whl size=24551720 sha256=42d07c5931989cb207f5d977c19b19d00671dd79e2d04a8a3e1945cf581cb7c6\n",
            "  Stored in directory: /root/.cache/pip/wheels/2a/4f/b2/88d834aab03077e1611b46825f45c06ac4db07b77ee45eadd5\n",
            "Successfully built owlready2\n",
            "Installing collected packages: owlready2\n",
            "Successfully installed owlready2-0.48\n"
          ]
        }
      ]
    },
    {
      "cell_type": "code",
      "execution_count": null,
      "metadata": {
        "colab": {
          "base_uri": "https://localhost:8080/"
        },
        "id": "PQfZF9IlxWbq",
        "outputId": "83636b50-0365-495e-abcd-552d6889de75"
      },
      "outputs": [
        {
          "output_type": "stream",
          "name": "stdout",
          "text": [
            "Pizza ⊑ Food\n",
            "Pizza ⊑ ∃hasBase.PizzaBase\n",
            "PizzaBase ⊑ Food\n",
            "Food ⊑ DomainConcept\n",
            "Spiciness ⊑ ValuePartition\n",
            "PizzaTopping ⊑ Food\n",
            "American ⊑ NamedPizza\n",
            "American ⊑ ∃hasTopping.MozzarellaTopping\n",
            "American ⊑ ∃hasTopping.PeperoniSausageTopping\n",
            "American ⊑ ∃hasTopping.TomatoTopping\n"
          ]
        }
      ],
      "source": [
        "from owlready2 import get_ontology, ThingClass, Restriction, SOME\n",
        "\n",
        "# Load directly from the official Pizza Ontology URL\n",
        "url = \"https://protege.stanford.edu/ontologies/pizza/pizza.owl\"\n",
        "onto = get_ontology(url).load(format=\"rdfxml\")\n",
        "\n",
        "el_axioms = []\n",
        "\n",
        "for cls in onto.classes():\n",
        "    for ax in cls.is_a:\n",
        "        if isinstance(ax, ThingClass) and isinstance(cls, ThingClass):\n",
        "            el_axioms.append(f\"{cls.name} ⊑ {ax.name}\")\n",
        "        elif isinstance(ax, Restriction) and ax.type == SOME and isinstance(ax.value, ThingClass):\n",
        "            el_axioms.append(f\"{cls.name} ⊑ ∃{ax.property.name}.{ax.value.name}\")\n",
        "\n",
        "# Show a sample\n",
        "for ax in el_axioms[:10]:\n",
        "    print(ax)"
      ]
    },
    {
      "cell_type": "code",
      "source": [
        "from pathlib import Path\n",
        "from google.colab import files\n",
        "\n",
        "Path(\"pizza_el_axioms.txt\").write_text(\"\\n\".join(sorted(set(el_axioms))))\n",
        "files.download(\"pizza_el_axioms.txt\")"
      ],
      "metadata": {
        "id": "YnYBrqS3zd53",
        "outputId": "4d8adb58-90a9-4508-bf4e-27030c91fb17",
        "colab": {
          "base_uri": "https://localhost:8080/",
          "height": 17
        }
      },
      "execution_count": null,
      "outputs": [
        {
          "output_type": "display_data",
          "data": {
            "text/plain": [
              "<IPython.core.display.Javascript object>"
            ],
            "application/javascript": [
              "\n",
              "    async function download(id, filename, size) {\n",
              "      if (!google.colab.kernel.accessAllowed) {\n",
              "        return;\n",
              "      }\n",
              "      const div = document.createElement('div');\n",
              "      const label = document.createElement('label');\n",
              "      label.textContent = `Downloading \"${filename}\": `;\n",
              "      div.appendChild(label);\n",
              "      const progress = document.createElement('progress');\n",
              "      progress.max = size;\n",
              "      div.appendChild(progress);\n",
              "      document.body.appendChild(div);\n",
              "\n",
              "      const buffers = [];\n",
              "      let downloaded = 0;\n",
              "\n",
              "      const channel = await google.colab.kernel.comms.open(id);\n",
              "      // Send a message to notify the kernel that we're ready.\n",
              "      channel.send({})\n",
              "\n",
              "      for await (const message of channel.messages) {\n",
              "        // Send a message to notify the kernel that we're ready.\n",
              "        channel.send({})\n",
              "        if (message.buffers) {\n",
              "          for (const buffer of message.buffers) {\n",
              "            buffers.push(buffer);\n",
              "            downloaded += buffer.byteLength;\n",
              "            progress.value = downloaded;\n",
              "          }\n",
              "        }\n",
              "      }\n",
              "      const blob = new Blob(buffers, {type: 'application/binary'});\n",
              "      const a = document.createElement('a');\n",
              "      a.href = window.URL.createObjectURL(blob);\n",
              "      a.download = filename;\n",
              "      div.appendChild(a);\n",
              "      a.click();\n",
              "      div.remove();\n",
              "    }\n",
              "  "
            ]
          },
          "metadata": {}
        },
        {
          "output_type": "display_data",
          "data": {
            "text/plain": [
              "<IPython.core.display.Javascript object>"
            ],
            "application/javascript": [
              "download(\"download_a4ad86d6-8fe2-420f-b934-07a5dbaecdb5\", \"pizza_el_axioms.txt\", 9406)"
            ]
          },
          "metadata": {}
        }
      ]
    },
    {
      "cell_type": "code",
      "source": [
        "import types\n",
        "from owlready2 import get_ontology, Thing, Restriction, SOME, onto_path, ObjectProperty\n",
        "\n",
        "# Load Pizza OWL DL ontology\n",
        "pizza = get_ontology(\"https://protege.stanford.edu/ontologies/pizza/pizza.owl\").load()\n",
        "\n",
        "# Create EL-only ontology\n",
        "onto_path.append(\".\")\n",
        "el_onto = get_ontology(\"http://example.org/pizza-el.owl\")\n",
        "\n",
        "with el_onto:\n",
        "    class_map = {}\n",
        "    prop_map = {}\n",
        "\n",
        "    # Create clean class entities\n",
        "    for cls in pizza.classes():\n",
        "        class_map[cls.name] = types.new_class(cls.name, (Thing,))\n",
        "\n",
        "    # Create clean object properties\n",
        "    for prop in pizza.object_properties():\n",
        "        prop_map[prop.name] = types.new_class(prop.name, (ObjectProperty,))\n",
        "\n",
        "    # Transfer EL-safe axioms\n",
        "    for cls in pizza.classes():\n",
        "        new_cls = class_map.get(cls.name)\n",
        "        if not new_cls:\n",
        "            continue\n",
        "\n",
        "        for ax in cls.is_a:\n",
        "            if isinstance(ax, Thing) and ax.name in class_map:\n",
        "                new_cls.is_a.append(class_map[ax.name])\n",
        "\n",
        "            elif isinstance(ax, Restriction) and ax.type == SOME:\n",
        "                prop = prop_map.get(ax.property.name)\n",
        "                filler = class_map.get(ax.value.name)\n",
        "                if prop and filler:\n",
        "                    new_cls.is_a.append(prop.some(filler))\n",
        "\n",
        "# Save\n",
        "el_onto.save(file=\"pizza-el.owl\", format=\"rdfxml\")\n",
        "print(\"Saved pizza-el.owl (EL-only axioms)\")"
      ],
      "metadata": {
        "id": "2a1AmNZ8L72e",
        "colab": {
          "base_uri": "https://localhost:8080/"
        },
        "outputId": "d06b2933-e66c-4c47-a8e1-d627c3c0c4fd"
      },
      "execution_count": 8,
      "outputs": [
        {
          "output_type": "stream",
          "name": "stdout",
          "text": [
            "✅ Saved pizza-el.owl (EL-only axioms)\n"
          ]
        }
      ]
    }
  ]
}